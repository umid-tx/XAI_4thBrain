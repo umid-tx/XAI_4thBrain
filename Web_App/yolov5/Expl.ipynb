{
 "cells": [
  {
   "cell_type": "code",
   "execution_count": 90,
   "metadata": {},
   "outputs": [],
   "source": [
    "import torch\n",
    "import torch.nn.functional as F\n",
    "\n",
    "from PIL import Image\n",
    "\n",
    "import os\n",
    "import json\n",
    "import numpy as np\n",
    "from matplotlib.colors import LinearSegmentedColormap\n",
    "\n",
    "import torchvision\n",
    "from torchvision import models\n",
    "from torchvision import transforms\n",
    "\n",
    "from captum.attr import IntegratedGradients\n",
    "from captum.attr import GradientShap\n",
    "from captum.attr import Occlusion\n",
    "from captum.attr import NoiseTunnel\n",
    "from captum.attr import visualization as viz"
   ]
  },
  {
   "cell_type": "code",
   "execution_count": 91,
   "metadata": {},
   "outputs": [],
   "source": [
    "model_path = './runs/train/MEL_128x128_scratch/weights/best.pt'"
   ]
  },
  {
   "cell_type": "code",
   "execution_count": 140,
   "metadata": {},
   "outputs": [
    {
     "name": "stderr",
     "output_type": "stream",
     "text": [
      "YOLOv5 🚀 2022-10-29 Python-3.9.12 torch-1.12.1 CPU\n",
      "\n",
      "Fusing layers... \n",
      "YOLOv5m summary: 212 layers, 20856975 parameters, 0 gradients\n",
      "Adding AutoShape... \n"
     ]
    }
   ],
   "source": [
    "model = torch.hub.load('../yolov5', 'custom', path=model_path, source='local')  # local model\n",
    "\n",
    "model.conf = 0.4  # NMS confidence threshold\n",
    "model.iou = 0.45  # NMS IoU threshold\n",
    "      #agnostic = False  # NMS class-agnostic\n",
    "      #multi_label = False  # NMS multiple labels per box\n",
    "      #classes = None  # (optional list) filter by class, i.e. = [0, 15, 16] for COCO persons, cats and dogs\n",
    "      #max_det = 1000  # maximum number of detections per image\n",
    "      #amp = False  # Automatic Mixed Precision (AMP) inference"
   ]
  },
  {
   "cell_type": "code",
   "execution_count": 151,
   "metadata": {},
   "outputs": [],
   "source": [
    "state_dict = torch.load(model_path) # custom state dict model.load_state_dict(state_dict['model_state'])"
   ]
  },
  {
   "cell_type": "code",
   "execution_count": 162,
   "metadata": {},
   "outputs": [],
   "source": [
    "#state_dict['model']"
   ]
  },
  {
   "cell_type": "code",
   "execution_count": 165,
   "metadata": {},
   "outputs": [],
   "source": [
    "#model.model.model.model[-2]"
   ]
  },
  {
   "cell_type": "code",
   "execution_count": 169,
   "metadata": {},
   "outputs": [
    {
     "name": "stdout",
     "output_type": "stream",
     "text": [
      "Collecting pytorch-gradcam\n",
      "  Downloading pytorch-gradcam-0.2.1.tar.gz (6.0 MB)\n",
      "\u001b[2K     \u001b[90m━━━━━━━━━━━━━━━━━━━━━━━━━━━━━━━━━━━━━━━━\u001b[0m \u001b[32m6.0/6.0 MB\u001b[0m \u001b[31m11.3 MB/s\u001b[0m eta \u001b[36m0:00:00\u001b[0m00:01\u001b[0m00:01\u001b[0m\n",
      "\u001b[?25h  Preparing metadata (setup.py) ... \u001b[?25ldone\n",
      "\u001b[?25hRequirement already satisfied: opencv-python in /Users/deliaahmed/anaconda3/envs/py39_12/lib/python3.9/site-packages (from pytorch-gradcam) (4.6.0.66)\n",
      "Requirement already satisfied: numpy in /Users/deliaahmed/anaconda3/envs/py39_12/lib/python3.9/site-packages (from pytorch-gradcam) (1.21.5)\n",
      "Building wheels for collected packages: pytorch-gradcam\n",
      "  Building wheel for pytorch-gradcam (setup.py) ... \u001b[?25ldone\n",
      "\u001b[?25h  Created wheel for pytorch-gradcam: filename=pytorch_gradcam-0.2.1-py3-none-any.whl size=5247 sha256=2ec3d6f2ee972cd2b3c720730374c3375b0f91d7c0816835cc46350bc9362b5a\n",
      "  Stored in directory: /Users/deliaahmed/Library/Caches/pip/wheels/dd/3c/0e/8b7512f5d7f462c9c37342107b7f0276609345f246ae4e75fc\n",
      "Successfully built pytorch-gradcam\n",
      "Installing collected packages: pytorch-gradcam\n",
      "Successfully installed pytorch-gradcam-0.2.1\n"
     ]
    }
   ],
   "source": [
    "!pip install pytorch-gradcam"
   ]
  },
  {
   "cell_type": "code",
   "execution_count": 170,
   "metadata": {},
   "outputs": [
    {
     "ename": "ModuleNotFoundError",
     "evalue": "No module named 'pytorch_grad_cam'",
     "output_type": "error",
     "traceback": [
      "\u001b[0;31m---------------------------------------------------------------------------\u001b[0m",
      "\u001b[0;31mModuleNotFoundError\u001b[0m                       Traceback (most recent call last)",
      "\u001b[1;32m/Users/deliaahmed/Desktop/MLE-9/yolo_runs/Yolo_MEL_Patch_128x128/yolov5_upd/Expl.ipynb Cell 8\u001b[0m in \u001b[0;36m<cell line: 9>\u001b[0;34m()\u001b[0m\n\u001b[1;32m      <a href='vscode-notebook-cell:/Users/deliaahmed/Desktop/MLE-9/yolo_runs/Yolo_MEL_Patch_128x128/yolov5_upd/Expl.ipynb#X52sZmlsZQ%3D%3D?line=6'>7</a>\u001b[0m \u001b[39mimport\u001b[39;00m \u001b[39mrequests\u001b[39;00m\n\u001b[1;32m      <a href='vscode-notebook-cell:/Users/deliaahmed/Desktop/MLE-9/yolo_runs/Yolo_MEL_Patch_128x128/yolov5_upd/Expl.ipynb#X52sZmlsZQ%3D%3D?line=7'>8</a>\u001b[0m \u001b[39mimport\u001b[39;00m \u001b[39mtorchvision\u001b[39;00m\u001b[39m.\u001b[39;00m\u001b[39mtransforms\u001b[39;00m \u001b[39mas\u001b[39;00m \u001b[39mtransforms\u001b[39;00m\n\u001b[0;32m----> <a href='vscode-notebook-cell:/Users/deliaahmed/Desktop/MLE-9/yolo_runs/Yolo_MEL_Patch_128x128/yolov5_upd/Expl.ipynb#X52sZmlsZQ%3D%3D?line=8'>9</a>\u001b[0m \u001b[39mfrom\u001b[39;00m \u001b[39mpytorch_grad_cam\u001b[39;00m \u001b[39mimport\u001b[39;00m EigenCAM\n\u001b[1;32m     <a href='vscode-notebook-cell:/Users/deliaahmed/Desktop/MLE-9/yolo_runs/Yolo_MEL_Patch_128x128/yolov5_upd/Expl.ipynb#X52sZmlsZQ%3D%3D?line=9'>10</a>\u001b[0m \u001b[39mfrom\u001b[39;00m \u001b[39mpytorch_grad_cam\u001b[39;00m\u001b[39m.\u001b[39;00m\u001b[39mutils\u001b[39;00m\u001b[39m.\u001b[39;00m\u001b[39mimage\u001b[39;00m \u001b[39mimport\u001b[39;00m show_cam_on_image, scale_cam_image\n\u001b[1;32m     <a href='vscode-notebook-cell:/Users/deliaahmed/Desktop/MLE-9/yolo_runs/Yolo_MEL_Patch_128x128/yolov5_upd/Expl.ipynb#X52sZmlsZQ%3D%3D?line=10'>11</a>\u001b[0m \u001b[39mfrom\u001b[39;00m \u001b[39mPIL\u001b[39;00m \u001b[39mimport\u001b[39;00m Image\n",
      "\u001b[0;31mModuleNotFoundError\u001b[0m: No module named 'pytorch_grad_cam'"
     ]
    }
   ],
   "source": [
    "import warnings\n",
    "warnings.filterwarnings('ignore')\n",
    "warnings.simplefilter('ignore')\n",
    "import torch    \n",
    "import cv2\n",
    "import numpy as np\n",
    "import requests\n",
    "import torchvision.transforms as transforms\n",
    "from pytorch_grad_cam import EigenCAM\n",
    "from pytorch_grad_cam.utils.image import show_cam_on_image, scale_cam_image\n",
    "from PIL import Image\n",
    "\n",
    "COLORS = np.random.uniform(0, 255, size=(80, 3))\n",
    "\n",
    "def parse_detections(results):\n",
    "    detections = results.pandas().xyxy[0]\n",
    "    detections = detections.to_dict()\n",
    "    boxes, colors, names = [], [], []\n",
    "\n",
    "    for i in range(len(detections[\"xmin\"])):\n",
    "        confidence = detections[\"confidence\"][i]\n",
    "        if confidence < 0.2:\n",
    "            continue\n",
    "        xmin = int(detections[\"xmin\"][i])\n",
    "        ymin = int(detections[\"ymin\"][i])\n",
    "        xmax = int(detections[\"xmax\"][i])\n",
    "        ymax = int(detections[\"ymax\"][i])\n",
    "        name = detections[\"name\"][i]\n",
    "        category = int(detections[\"class\"][i])\n",
    "        color = COLORS[category]\n",
    "\n",
    "        boxes.append((xmin, ymin, xmax, ymax))\n",
    "        colors.append(color)\n",
    "        names.append(name)\n",
    "    return boxes, colors, names\n",
    "\n",
    "\n",
    "def draw_detections(boxes, colors, names, img):\n",
    "    for box, color, name in zip(boxes, colors, names):\n",
    "        xmin, ymin, xmax, ymax = box\n",
    "        cv2.rectangle(\n",
    "            img,\n",
    "            (xmin, ymin),\n",
    "            (xmax, ymax),\n",
    "            color, \n",
    "            2)\n",
    "\n",
    "        cv2.putText(img, name, (xmin, ymin - 5),\n",
    "                    cv2.FONT_HERSHEY_SIMPLEX, 0.8, color, 2,\n",
    "                    lineType=cv2.LINE_AA)\n",
    "    return img\n",
    "\n",
    "\n",
    "#image_url = \"https://upload.wikimedia.org/wikipedia/commons/f/f1/Puppies_%284984818141%29.jpg\"\n",
    "#img = np.array(Image.open(requests.get(image_url, stream=True).raw))\n",
    "im_ex = '../Detect_Set3/1156.png'\n",
    "img = np.array(Image.open(im_ex))\n",
    "img = cv2.resize(img, (640, 640))\n",
    "rgb_img = img.copy()\n",
    "img = np.float32(img) / 255\n",
    "transform = transforms.ToTensor()\n",
    "tensor = transform(img).unsqueeze(0)\n",
    "\n",
    "#model = torch.hub.load('ultralytics/yolov5', 'yolov5s', pretrained=True)\n",
    "model = torch.hub.load('../yolov5', 'custom', path=model_path, source='local', pretrained=True)  # local model\n",
    "model.eval()\n",
    "model.cpu()\n",
    "target_layers = [model.model.model.model[-2]]\n",
    "\n",
    "results = model([rgb_img])\n",
    "boxes, colors, names = parse_detections(results)\n",
    "detections = draw_detections(boxes, colors, names, rgb_img.copy())\n",
    "Image.fromarray(detections)"
   ]
  },
  {
   "cell_type": "code",
   "execution_count": 93,
   "metadata": {},
   "outputs": [
    {
     "name": "stdout",
     "output_type": "stream",
     "text": [
      "image 1/1: 128x128 1 Nonmitosis\n",
      "Speed: 101.8ms pre-process, 69.8ms inference, 328.8ms NMS per image at shape (1, 3, 128, 128)\n",
      "        xmin       ymin       xmax        ymax  confidence  class        name\n",
      "0  17.577463  59.260811  73.891174  115.613487    0.545145      0  Nonmitosis\n"
     ]
    },
    {
     "data": {
      "image/png": "[encoded data removed]",
      "text/plain": [
       "<PIL.Image.Image image mode=RGB size=128x128>"
      ]
     },
     "metadata": {},
     "output_type": "display_data"
    }
   ],
   "source": [
    "im_ex = '../Detect_Set3/1156.png'\n",
    "results = model(im_ex, size=128)  # inference; results = model([im1, im2], size=640) # batch of images\n",
    "print(results)\n",
    "print(results.pandas().xyxy[0]) # Pandas DataFrame\n",
    "results.show()  # or .save()"
   ]
  },
  {
   "cell_type": "code",
   "execution_count": 94,
   "metadata": {},
   "outputs": [],
   "source": [
    "model.eval();"
   ]
  },
  {
   "cell_type": "code",
   "execution_count": 96,
   "metadata": {},
   "outputs": [],
   "source": [
    "device = torch.device(\"cuda:0\" if torch.cuda.is_available() else \"cpu\")"
   ]
  },
  {
   "cell_type": "code",
   "execution_count": 109,
   "metadata": {},
   "outputs": [],
   "source": [
    "model1 = torch.load(model_path)"
   ]
  },
  {
   "cell_type": "code",
   "execution_count": null,
   "metadata": {},
   "outputs": [],
   "source": []
  },
  {
   "cell_type": "code",
   "execution_count": 95,
   "metadata": {},
   "outputs": [],
   "source": [
    "transform = transforms.Compose([\n",
    " transforms.Resize(256),\n",
    " transforms.CenterCrop(224),\n",
    " transforms.ToTensor()\n",
    "])\n",
    "\n",
    "transform_normalize = transforms.Normalize(\n",
    "     mean=[0.485, 0.456, 0.406],\n",
    "     std=[0.229, 0.224, 0.225]\n",
    " )\n",
    "\n",
    "#img = Image.open('../model_dev/Data_CMC_COADEL_64_1/val/Nonmitosis/10002.jpg')\n",
    "img = Image.open(im_ex)\n",
    "transformed_img = transform(img)\n",
    "\n",
    "input = transform_normalize(transformed_img)\n",
    "input = input.unsqueeze(0)"
   ]
  },
  {
   "cell_type": "code",
   "execution_count": 98,
   "metadata": {},
   "outputs": [
    {
     "ename": "ValueError",
     "evalue": "only one element tensors can be converted to Python scalars",
     "output_type": "error",
     "traceback": [
      "\u001b[0;31m---------------------------------------------------------------------------\u001b[0m",
      "\u001b[0;31mValueError\u001b[0m                                Traceback (most recent call last)",
      "\u001b[1;32m/Users/deliaahmed/Desktop/MLE-9/yolo_runs/Yolo_MEL_Patch_128x128/yolov5_upd/Expl.ipynb Cell 8\u001b[0m in \u001b[0;36m<cell line: 7>\u001b[0;34m()\u001b[0m\n\u001b[1;32m      <a href='vscode-notebook-cell:/Users/deliaahmed/Desktop/MLE-9/yolo_runs/Yolo_MEL_Patch_128x128/yolov5_upd/Expl.ipynb#X32sZmlsZQ%3D%3D?line=3'>4</a>\u001b[0m prediction_score, pred_label_idx \u001b[39m=\u001b[39m torch\u001b[39m.\u001b[39mtopk(output, \u001b[39m1\u001b[39m)\n\u001b[1;32m      <a href='vscode-notebook-cell:/Users/deliaahmed/Desktop/MLE-9/yolo_runs/Yolo_MEL_Patch_128x128/yolov5_upd/Expl.ipynb#X32sZmlsZQ%3D%3D?line=5'>6</a>\u001b[0m pred_label_idx\u001b[39m.\u001b[39msqueeze_()\n\u001b[0;32m----> <a href='vscode-notebook-cell:/Users/deliaahmed/Desktop/MLE-9/yolo_runs/Yolo_MEL_Patch_128x128/yolov5_upd/Expl.ipynb#X32sZmlsZQ%3D%3D?line=6'>7</a>\u001b[0m predicted_label \u001b[39m=\u001b[39m \u001b[39mstr\u001b[39m(pred_label_idx\u001b[39m.\u001b[39;49mitem())\n\u001b[1;32m      <a href='vscode-notebook-cell:/Users/deliaahmed/Desktop/MLE-9/yolo_runs/Yolo_MEL_Patch_128x128/yolov5_upd/Expl.ipynb#X32sZmlsZQ%3D%3D?line=7'>8</a>\u001b[0m \u001b[39mprint\u001b[39m(output)\n\u001b[1;32m      <a href='vscode-notebook-cell:/Users/deliaahmed/Desktop/MLE-9/yolo_runs/Yolo_MEL_Patch_128x128/yolov5_upd/Expl.ipynb#X32sZmlsZQ%3D%3D?line=8'>9</a>\u001b[0m \u001b[39mprint\u001b[39m(\u001b[39m'\u001b[39m\u001b[39mPredicted:\u001b[39m\u001b[39m'\u001b[39m, predicted_label, \u001b[39m'\u001b[39m\u001b[39m(\u001b[39m\u001b[39m'\u001b[39m, prediction_score\u001b[39m.\u001b[39msqueeze()\u001b[39m.\u001b[39mitem(), \u001b[39m'\u001b[39m\u001b[39m)\u001b[39m\u001b[39m'\u001b[39m)\n",
      "\u001b[0;31mValueError\u001b[0m: only one element tensors can be converted to Python scalars"
     ]
    }
   ],
   "source": [
    "input = input.to(device)\n",
    "output = model(input) #.to(device)\n",
    "output = F.softmax(output, dim=1)\n",
    "prediction_score, pred_label_idx = torch.topk(output, 1)\n",
    "\n",
    "pred_label_idx.squeeze_()\n",
    "predicted_label = str(pred_label_idx.item())\n",
    "print(output)\n",
    "print('Predicted:', predicted_label, '(', prediction_score.squeeze().item(), ')')"
   ]
  },
  {
   "cell_type": "code",
   "execution_count": 108,
   "metadata": {},
   "outputs": [
    {
     "data": {
      "text/plain": [
       "tensor([[[0.00034],\n",
       "         [0.00034],\n",
       "         [0.00033],\n",
       "         ...,\n",
       "         [0.01980],\n",
       "         [0.00800],\n",
       "         [0.02509]]])"
      ]
     },
     "execution_count": 108,
     "metadata": {},
     "output_type": "execute_result"
    }
   ],
   "source": [
    "torch.topk(output,1)[0]"
   ]
  },
  {
   "cell_type": "code",
   "execution_count": 133,
   "metadata": {},
   "outputs": [],
   "source": [
    "def wrapper(input):\n",
    "    return torch.sum(model(input), axis = (2, 3))"
   ]
  },
  {
   "cell_type": "code",
   "execution_count": 134,
   "metadata": {},
   "outputs": [],
   "source": [
    "from captum.attr import IntegratedGradients"
   ]
  },
  {
   "cell_type": "code",
   "execution_count": 135,
   "metadata": {},
   "outputs": [
    {
     "ename": "AttributeError",
     "evalue": "unsqueeze",
     "output_type": "error",
     "traceback": [
      "\u001b[0;31m---------------------------------------------------------------------------\u001b[0m",
      "\u001b[0;31mAttributeError\u001b[0m                            Traceback (most recent call last)",
      "\u001b[1;32m/Users/deliaahmed/Desktop/MLE-9/yolo_runs/Yolo_MEL_Patch_128x128/yolov5_upd/Expl.ipynb Cell 14\u001b[0m in \u001b[0;36m<cell line: 2>\u001b[0;34m()\u001b[0m\n\u001b[1;32m      <a href='vscode-notebook-cell:/Users/deliaahmed/Desktop/MLE-9/yolo_runs/Yolo_MEL_Patch_128x128/yolov5_upd/Expl.ipynb#X44sZmlsZQ%3D%3D?line=0'>1</a>\u001b[0m ig \u001b[39m=\u001b[39m IntegratedGradients(wrapper)\n\u001b[0;32m----> <a href='vscode-notebook-cell:/Users/deliaahmed/Desktop/MLE-9/yolo_runs/Yolo_MEL_Patch_128x128/yolov5_upd/Expl.ipynb#X44sZmlsZQ%3D%3D?line=1'>2</a>\u001b[0m attribution_A \u001b[39m=\u001b[39m ig\u001b[39m.\u001b[39mattribute(img\u001b[39m.\u001b[39;49munsqueeze(\u001b[39m0\u001b[39m),target\u001b[39m=\u001b[39m\u001b[39m0\u001b[39m) \n\u001b[1;32m      <a href='vscode-notebook-cell:/Users/deliaahmed/Desktop/MLE-9/yolo_runs/Yolo_MEL_Patch_128x128/yolov5_upd/Expl.ipynb#X44sZmlsZQ%3D%3D?line=2'>3</a>\u001b[0m attribution_B \u001b[39m=\u001b[39m ig\u001b[39m.\u001b[39mattribute(img\u001b[39m.\u001b[39munsqueeze(\u001b[39m0\u001b[39m),target\u001b[39m=\u001b[39m\u001b[39m1\u001b[39m)\n",
      "File \u001b[0;32m~/anaconda3/envs/py39_12/lib/python3.9/site-packages/PIL/Image.py:517\u001b[0m, in \u001b[0;36mImage.__getattr__\u001b[0;34m(self, name)\u001b[0m\n\u001b[1;32m    515\u001b[0m     deprecate(\u001b[39m\"\u001b[39m\u001b[39mImage categories\u001b[39m\u001b[39m\"\u001b[39m, \u001b[39m10\u001b[39m, \u001b[39m\"\u001b[39m\u001b[39mis_animated\u001b[39m\u001b[39m\"\u001b[39m, plural\u001b[39m=\u001b[39m\u001b[39mTrue\u001b[39;00m)\n\u001b[1;32m    516\u001b[0m     \u001b[39mreturn\u001b[39;00m \u001b[39mself\u001b[39m\u001b[39m.\u001b[39m_category\n\u001b[0;32m--> 517\u001b[0m \u001b[39mraise\u001b[39;00m \u001b[39mAttributeError\u001b[39;00m(name)\n",
      "\u001b[0;31mAttributeError\u001b[0m: unsqueeze"
     ]
    }
   ],
   "source": [
    "ig = IntegratedGradients(wrapper)\n",
    "attribution_A = ig.attribute(img.unsqueeze(0),target=0) \n",
    "attribution_B = ig.attribute(img.unsqueeze(0),target=1) "
   ]
  },
  {
   "cell_type": "code",
   "execution_count": 137,
   "metadata": {},
   "outputs": [
    {
     "ename": "AttributeError",
     "evalue": "unsqueeze",
     "output_type": "error",
     "traceback": [
      "\u001b[0;31m---------------------------------------------------------------------------\u001b[0m",
      "\u001b[0;31mAttributeError\u001b[0m                            Traceback (most recent call last)",
      "\u001b[1;32m/Users/deliaahmed/Desktop/MLE-9/yolo_runs/Yolo_MEL_Patch_128x128/yolov5_upd/Expl.ipynb Cell 15\u001b[0m in \u001b[0;36m<cell line: 1>\u001b[0;34m()\u001b[0m\n\u001b[0;32m----> <a href='vscode-notebook-cell:/Users/deliaahmed/Desktop/MLE-9/yolo_runs/Yolo_MEL_Patch_128x128/yolov5_upd/Expl.ipynb#X45sZmlsZQ%3D%3D?line=0'>1</a>\u001b[0m img\u001b[39m.\u001b[39;49munsqueeze(\u001b[39m0\u001b[39m)\n",
      "File \u001b[0;32m~/anaconda3/envs/py39_12/lib/python3.9/site-packages/PIL/Image.py:517\u001b[0m, in \u001b[0;36mImage.__getattr__\u001b[0;34m(self, name)\u001b[0m\n\u001b[1;32m    515\u001b[0m     deprecate(\u001b[39m\"\u001b[39m\u001b[39mImage categories\u001b[39m\u001b[39m\"\u001b[39m, \u001b[39m10\u001b[39m, \u001b[39m\"\u001b[39m\u001b[39mis_animated\u001b[39m\u001b[39m\"\u001b[39m, plural\u001b[39m=\u001b[39m\u001b[39mTrue\u001b[39;00m)\n\u001b[1;32m    516\u001b[0m     \u001b[39mreturn\u001b[39;00m \u001b[39mself\u001b[39m\u001b[39m.\u001b[39m_category\n\u001b[0;32m--> 517\u001b[0m \u001b[39mraise\u001b[39;00m \u001b[39mAttributeError\u001b[39;00m(name)\n",
      "\u001b[0;31mAttributeError\u001b[0m: unsqueeze"
     ]
    }
   ],
   "source": [
    "img.unsqueeze(0)"
   ]
  },
  {
   "cell_type": "code",
   "execution_count": null,
   "metadata": {},
   "outputs": [],
   "source": []
  }
 ],
 "metadata": {
  "kernelspec": {
   "display_name": "Python 3.9.12",
   "language": "python",
   "name": "python3"
  },
  "language_info": {
   "codemirror_mode": {
    "name": "ipython",
    "version": 3
   },
   "file_extension": ".py",
   "mimetype": "text/x-python",
   "name": "python",
   "nbconvert_exporter": "python",
   "pygments_lexer": "ipython3",
   "version": "3.9.12"
  },
  "orig_nbformat": 4,
  "vscode": {
   "interpreter": {
    "hash": "d3eeb4754ca6e7aa75e959aea56fc59a1efa39741703ff424733e86a886eecb1"
   }
  }
 },
 "nbformat": 4,
 "nbformat_minor": 2
}
