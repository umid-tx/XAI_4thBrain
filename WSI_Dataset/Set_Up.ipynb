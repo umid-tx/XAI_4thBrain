{
 "cells": [
  {
   "cell_type": "code",
   "execution_count": null,
   "id": "b9d37ba0",
   "metadata": {},
   "outputs": [],
   "source": [
    "#import sys\n",
    "#print(sys.version, sys.platform, sys.executable)"
   ]
  },
  {
   "cell_type": "code",
   "execution_count": 2,
   "id": "6cf5e873",
   "metadata": {},
   "outputs": [],
   "source": [
    "# Note to self: tqdm and requests modules installed in miniconda3 kept resulting in \"No module found\" error message.\n",
    "# This error was fixed when installed these packages in anaconda environment"
   ]
  },
  {
   "cell_type": "code",
   "execution_count": 1,
   "id": "0de97347",
   "metadata": {},
   "outputs": [
    {
     "name": "stdout",
     "output_type": "stream",
     "text": [
      "Downloading all files from figshare - take a coffee and sit down, this will take some while, we are downloading above 37GB ...\n"
     ]
    },
    {
     "name": "stderr",
     "output_type": "stream",
     "text": [
      "100%|███████████████████████████████████████████████████████████████████████████████████| 1/1 [21:01<00:00, 1261.56s/it]\n"
     ]
    }
   ],
   "source": [
    "import urllib.request\n",
    "import os\n",
    "from tqdm import tqdm\n",
    "downloadableFiles = {'WSI/deb768e5efb9d1dcbc13.svs' : #18\n",
    "                         'https://ndownloader.figshare.com/files/22407414?private_link=be072bf30fd3f63b03cc',\n",
    "                     #'WSI/d37ab62158945f22deed.svs' : #19\n",
    "                     #    'https://ndownloader.figshare.com/files/22585835?private_link=be072bf30fd3f63b03cc',\n",
    "                     #'WSI/022857018aa597374b6c.svs': #1,\n",
    "                     #    'https://ndownloader.figshare.com/files/22407537?private_link=be072bf30fd3f63b03cc',\n",
    "                     #'WSI/69a02453620ade0edefd.svs': #2\n",
    "                     #     'https://ndownloader.figshare.com/files/22407411?private_link=be072bf30fd3f63b03cc', \n",
    "                     #'WSI/a8773be388e12df89edd.svs': #3\n",
    "                     #     'https://ndownloader.figshare.com/files/22407540?private_link=be072bf30fd3f63b03cc',\n",
    "                     #'WSI/c4b95da36e32993289cb.svs': #4\n",
    "                     #     'https://ndownloader.figshare.com/files/22407552?private_link=be072bf30fd3f63b03cc',\n",
    "                     #'WSI/3d3d04eca056556b0b26.svs': #5\n",
    "                     #     'https://ndownloader.figshare.com/files/22407585?private_link=be072bf30fd3f63b03cc',\n",
    "                     #'WSI/d0423ef9a648bb66a763.svs': #6\n",
    "                     #     'https://ndownloader.figshare.com/files/22407624?private_link=be072bf30fd3f63b03cc',\n",
    "                     #'WSI/50cf88e9a33df0c0c8f9.svs': #7\n",
    "                     #     'https://ndownloader.figshare.com/files/22407531?private_link=be072bf30fd3f63b03cc',\n",
    "                     #'WSI/084383c18b9060880e82.svs': #8\n",
    "                     #    'https://ndownloader.figshare.com/files/22407486?private_link=be072bf30fd3f63b03cc',\n",
    "                     #'WSI/4eee7b944ad5e46c60ce.svs': #9\n",
    "                     #    'https://ndownloader.figshare.com/files/22407528?private_link=be072bf30fd3f63b03cc',\n",
    "                     #'WSI/2191a7aa287ce1d5dbc0.svs' : #10\n",
    "                     #    'https://ndownloader.figshare.com/files/22407525?private_link=be072bf30fd3f63b03cc',\n",
    "                     #'WSI/13528f1921d4f1f15511.svs' : #11\n",
    "                     #    'https://ndownloader.figshare.com/files/22407519?private_link=be072bf30fd3f63b03cc',\n",
    "                     #'WSI/2d56d1902ca533a5b509.svs' : #12\n",
    "                     #    'https://ndownloader.figshare.com/files/22407522?private_link=be072bf30fd3f63b03cc',\n",
    "                     #'WSI/460906c0b1fe17ea5354.svs' : #13\n",
    "                     #    'https://ndownloader.figshare.com/files/22407447?private_link=be072bf30fd3f63b03cc',\n",
    "                     #'WSI/da18e7b9846e9d38034c.svs' : #14\n",
    "                     #    'https://ndownloader.figshare.com/files/22407453?private_link=be072bf30fd3f63b03cc',\n",
    "                     #'WSI/72c93e042d0171a61012.svs' : #15\n",
    "                     #    'https://ndownloader.figshare.com/files/22407456?private_link=be072bf30fd3f63b03cc',\n",
    "                     #'WSI/b1bdee8e5e3372174619.svs' : #16\n",
    "                     #    'https://ndownloader.figshare.com/files/22407423?private_link=be072bf30fd3f63b03cc',\n",
    "                     #'WSI/fa4959e484beec77543b.svs' : #17\n",
    "                     #    'https://ndownloader.figshare.com/files/22407459?private_link=be072bf30fd3f63b03cc',\n",
    "                     #'WSI/e09512d530d933e436d5.svs' : #20\n",
    "                     #    'https://ndownloader.figshare.com/files/22407465?private_link=be072bf30fd3f63b03cc',\n",
    "                     #'WSI/d7a8af121d7d4f3fbf01.svs' : #21\n",
    "                     #    'https://ndownloader.figshare.com/files/22407477?private_link=be072bf30fd3f63b03cc',\n",
    "                    }\n",
    "\n",
    "# Create folder for WSI if nonexistant\n",
    "if not os.path.isdir('WSI'):\n",
    "    os.mkdir('WSI')\n",
    "\n",
    "tqdm.write('Downloading all files from figshare - take a coffee and sit down, this will take some while, we are downloading above 37GB ...')\n",
    "    \n",
    "\n",
    "from time import sleep    \n",
    "sleep(0.5)\n",
    "\n",
    "import requests\n",
    "\n",
    "                    \n",
    "for fname in tqdm(list(downloadableFiles.keys())):\n",
    "    urllib.request.urlretrieve(downloadableFiles[fname],fname)"
   ]
  },
  {
   "cell_type": "code",
   "execution_count": null,
   "id": "1b523f82",
   "metadata": {},
   "outputs": [],
   "source": []
  }
 ],
 "metadata": {
  "kernelspec": {
   "display_name": "py39_12",
   "language": "python",
   "name": "py39_12"
  },
  "language_info": {
   "codemirror_mode": {
    "name": "ipython",
    "version": 3
   },
   "file_extension": ".py",
   "mimetype": "text/x-python",
   "name": "python",
   "nbconvert_exporter": "python",
   "pygments_lexer": "ipython3",
   "version": "3.9.12"
  }
 },
 "nbformat": 4,
 "nbformat_minor": 5
}
