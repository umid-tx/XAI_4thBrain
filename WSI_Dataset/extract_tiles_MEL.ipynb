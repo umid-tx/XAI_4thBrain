{
 "cells": [
  {
   "cell_type": "code",
   "execution_count": 1,
   "metadata": {},
   "outputs": [
    {
     "name": "stdout",
     "output_type": "stream",
     "text": [
      "Warning: nibabel not installed. Neuroimaging formats will not be available.\n"
     ]
    }
   ],
   "source": [
    "import numpy as np \n",
    "import SlideRunner.general.dependencies\n",
    "from SlideRunner.dataAccess.database import Database\n",
    "from SlideRunner.dataAccess.annotations import *\n",
    "import os\n",
    "import openslide\n",
    "import sqlite3\n",
    "import cv2\n",
    "import sys\n",
    "from pathlib import Path\n",
    "import pandas as pd"
   ]
  },
  {
   "cell_type": "code",
   "execution_count": 2,
   "metadata": {},
   "outputs": [],
   "source": [
    "DB = Database()\n",
    "\n",
    "vp = ViewingProfile()\n",
    "vp.majorityClassVote=True\n",
    "\n",
    "cm=np.zeros((7,7))\n",
    "if len(sys.argv)<2:\n",
    "    print('Synopsis: ',sys.argv[0],'<valrun>')\n",
    "    sys.exit()\n",
    "threshold = 5\n",
    "\n",
    "disagreedclass = 0\n",
    "agreedclass = 0\n",
    "#basepath='../WSI/'\n",
    "basepath='/Volumes/DA_HDD/CAPSTONE/WSI/'\n",
    "patchSize=128"
   ]
  },
  {
   "cell_type": "code",
   "execution_count": 5,
   "metadata": {},
   "outputs": [],
   "source": [
    "Databases = ['MITOS_WSI_CMC_COADEL_TR.sqlite',                    # [0]\n",
    "            'MITOS_WSI_CMC_CODAEL_TR_ROI.sqlite',                 # [1]    \n",
    "            'MITOS_WSI_CMC_MEL.sqlite',                           # [2]\n",
    "            'MITOS_WSI_CMC_ODAEL_TR.sqlite',                      # [3]\n",
    "            'TUPAC.sqlite',                                       # [4]\n",
    "            'TUPAC_alternativeLabels_augmented_training.sqlite',  # [5]\n",
    "            'TUPAC_stitched.sqlite']                              # [6]\n",
    "\n",
    "Path_DB = Path('../databases/')\n",
    "Path_WSI = Path('/Volumes/DA_HDD/CAPSTONE/WSI/')"
   ]
  },
  {
   "cell_type": "code",
   "execution_count": 8,
   "metadata": {},
   "outputs": [
    {
     "data": {
      "text/plain": [
       "0"
      ]
     },
     "execution_count": 8,
     "metadata": {},
     "output_type": "execute_result"
    }
   ],
   "source": [
    "#os.system('mkdir -p Data_CMC%s' % sys.argv[1])\n",
    "os.system('mkdir -p Data_%s' % Databases[2][:-7])"
   ]
  },
  {
   "cell_type": "code",
   "execution_count": 9,
   "metadata": {},
   "outputs": [],
   "source": [
    "Path_Data = Path('/Data_'+Databases[2][:-7]+'/')"
   ]
  },
  {
   "cell_type": "code",
   "execution_count": 10,
   "metadata": {},
   "outputs": [
    {
     "data": {
      "text/plain": [
       "PosixPath('/Data_MITOS_WSI_CMC_MEL')"
      ]
     },
     "execution_count": 10,
     "metadata": {},
     "output_type": "execute_result"
    }
   ],
   "source": [
    "Path_Data"
   ]
  },
  {
   "cell_type": "code",
   "execution_count": 14,
   "metadata": {},
   "outputs": [
    {
     "name": "stdout",
     "output_type": "stream",
     "text": [
      "   uid                     name    color\n",
      "0    1  Mitotic cell look-alike  #21ff22\n",
      "1    2           Mitotic figure  #0000ef\n"
     ]
    }
   ],
   "source": [
    "CON_MEL = sqlite3.connect(str(Path_DB/Databases[2]))\n",
    "MEL_Classes = pd.read_sql_query('SELECT * FROM Classes', con=CON_MEL)           # Create MEL classes dataframe\n",
    "print(pd.DataFrame(MEL_Classes))\n",
    "\n",
    "CON_COADEL = sqlite3.connect(str(Path_DB/Databases[1]))\n",
    "COADEL_Classes = pd.read_sql_query('SELECT * FROM Classes', con=CON_COADEL)     # Create COADEL classes dataframe\n",
    "#print(pd.DataFrame(COADEL_Classes))\n",
    "\n",
    "CON_ODAEL = sqlite3.connect(str(Path_DB/Databases[3]))\n",
    "ODAEL_Classes = pd.read_sql_query('SELECT * FROM Classes', con=CON_ODAEL)       # Create ODAEL classes dataframe\n",
    "#print(pd.DataFrame(ODAEL_Classes))\n",
    "\n",
    "\n",
    "CON_TUPAC = sqlite3.connect(str(Path_DB/Databases[5]))\n",
    "TUPAC_Classes = pd.read_sql_query('SELECT * FROM Classes', con=CON_TUPAC)       # Create TUPAC classes dataframe\n",
    "#print(pd.DataFrame(TUPAC_Classes))"
   ]
  },
  {
   "cell_type": "code",
   "execution_count": 13,
   "metadata": {},
   "outputs": [],
   "source": [
    "dirs = ['Mitosis', 'Nonmitosis']\n",
    "for k in dirs:\n",
    "    os.system('mkdir -p Data_%s/train/%s' % (Databases[2][:-7],k))   # Create a train folder under Mitosis and Nonmitosis folders\n",
    "    os.system('mkdir -p Data_%s/test/%s' % (Databases[2][:-7],k))    # Create a test folder under Mitosis and Nonmitosis folders\n",
    "\n",
    "def listOfSlides(DB):\n",
    "    DB.execute('SELECT uid,filename from Slides')\n",
    "    return DB.fetchall()\n",
    "\n",
    "slidelist_test_1 = ['18','3', '22','10','15','21','14']\n",
    "slidelist_test_2 = ['1', '20','17','5', '2', '11','16']\n",
    "slidelist_test_3 = ['12','13','7', '19','8', '6', '9']\n",
    "\n",
    "test_slides = { '1': slidelist_test_1,\n",
    "                '2': slidelist_test_2,\n",
    "                '3': slidelist_test_3}"
   ]
  },
  {
   "cell_type": "code",
   "execution_count": 19,
   "metadata": {},
   "outputs": [
    {
     "data": {
      "text/html": [
       "<div>\n",
       "<style scoped>\n",
       "    .dataframe tbody tr th:only-of-type {\n",
       "        vertical-align: middle;\n",
       "    }\n",
       "\n",
       "    .dataframe tbody tr th {\n",
       "        vertical-align: top;\n",
       "    }\n",
       "\n",
       "    .dataframe thead th {\n",
       "        text-align: right;\n",
       "    }\n",
       "</style>\n",
       "<table border=\"1\" class=\"dataframe\">\n",
       "  <thead>\n",
       "    <tr style=\"text-align: right;\">\n",
       "      <th></th>\n",
       "      <th>slide</th>\n",
       "      <th>filename</th>\n",
       "      <th>Mitotic cell look-alike</th>\n",
       "      <th>Mitotic figure</th>\n",
       "    </tr>\n",
       "  </thead>\n",
       "  <tbody>\n",
       "    <tr>\n",
       "      <th>0</th>\n",
       "      <td>1</td>\n",
       "      <td>a8773be388e12df89edd.svs</td>\n",
       "      <td>204</td>\n",
       "      <td>64</td>\n",
       "    </tr>\n",
       "    <tr>\n",
       "      <th>1</th>\n",
       "      <td>2</td>\n",
       "      <td>460906c0b1fe17ea5354.svs</td>\n",
       "      <td>1199</td>\n",
       "      <td>673</td>\n",
       "    </tr>\n",
       "    <tr>\n",
       "      <th>2</th>\n",
       "      <td>3</td>\n",
       "      <td>2d56d1902ca533a5b509.svs</td>\n",
       "      <td>228</td>\n",
       "      <td>139</td>\n",
       "    </tr>\n",
       "    <tr>\n",
       "      <th>3</th>\n",
       "      <td>5</td>\n",
       "      <td>d0423ef9a648bb66a763.svs</td>\n",
       "      <td>1143</td>\n",
       "      <td>378</td>\n",
       "    </tr>\n",
       "    <tr>\n",
       "      <th>4</th>\n",
       "      <td>6</td>\n",
       "      <td>50cf88e9a33df0c0c8f9.svs</td>\n",
       "      <td>1632</td>\n",
       "      <td>1197</td>\n",
       "    </tr>\n",
       "    <tr>\n",
       "      <th>5</th>\n",
       "      <td>7</td>\n",
       "      <td>da18e7b9846e9d38034c.svs</td>\n",
       "      <td>991</td>\n",
       "      <td>187</td>\n",
       "    </tr>\n",
       "    <tr>\n",
       "      <th>6</th>\n",
       "      <td>8</td>\n",
       "      <td>d7a8af121d7d4f3fbf01.svs</td>\n",
       "      <td>1832</td>\n",
       "      <td>716</td>\n",
       "    </tr>\n",
       "    <tr>\n",
       "      <th>7</th>\n",
       "      <td>9</td>\n",
       "      <td>2191a7aa287ce1d5dbc0.svs</td>\n",
       "      <td>2155</td>\n",
       "      <td>1449</td>\n",
       "    </tr>\n",
       "    <tr>\n",
       "      <th>8</th>\n",
       "      <td>10</td>\n",
       "      <td>69a02453620ade0edefd.svs</td>\n",
       "      <td>1407</td>\n",
       "      <td>634</td>\n",
       "    </tr>\n",
       "    <tr>\n",
       "      <th>9</th>\n",
       "      <td>11</td>\n",
       "      <td>c4b95da36e32993289cb.svs</td>\n",
       "      <td>2454</td>\n",
       "      <td>1097</td>\n",
       "    </tr>\n",
       "    <tr>\n",
       "      <th>10</th>\n",
       "      <td>12</td>\n",
       "      <td>fa4959e484beec77543b.svs</td>\n",
       "      <td>3598</td>\n",
       "      <td>1949</td>\n",
       "    </tr>\n",
       "    <tr>\n",
       "      <th>11</th>\n",
       "      <td>13</td>\n",
       "      <td>72c93e042d0171a61012.svs</td>\n",
       "      <td>375</td>\n",
       "      <td>130</td>\n",
       "    </tr>\n",
       "    <tr>\n",
       "      <th>12</th>\n",
       "      <td>14</td>\n",
       "      <td>4eee7b944ad5e46c60ce.svs</td>\n",
       "      <td>114</td>\n",
       "      <td>47</td>\n",
       "    </tr>\n",
       "    <tr>\n",
       "      <th>13</th>\n",
       "      <td>15</td>\n",
       "      <td>b1bdee8e5e3372174619.svs</td>\n",
       "      <td>1260</td>\n",
       "      <td>812</td>\n",
       "    </tr>\n",
       "    <tr>\n",
       "      <th>14</th>\n",
       "      <td>16</td>\n",
       "      <td>3d3d04eca056556b0b26.svs</td>\n",
       "      <td>2110</td>\n",
       "      <td>1383</td>\n",
       "    </tr>\n",
       "    <tr>\n",
       "      <th>15</th>\n",
       "      <td>17</td>\n",
       "      <td>084383c18b9060880e82.svs</td>\n",
       "      <td>404</td>\n",
       "      <td>157</td>\n",
       "    </tr>\n",
       "    <tr>\n",
       "      <th>16</th>\n",
       "      <td>18</td>\n",
       "      <td>e09512d530d933e436d5.svs</td>\n",
       "      <td>602</td>\n",
       "      <td>87</td>\n",
       "    </tr>\n",
       "    <tr>\n",
       "      <th>17</th>\n",
       "      <td>19</td>\n",
       "      <td>d37ab62158945f22deed.svs</td>\n",
       "      <td>1105</td>\n",
       "      <td>578</td>\n",
       "    </tr>\n",
       "    <tr>\n",
       "      <th>18</th>\n",
       "      <td>20</td>\n",
       "      <td>deb768e5efb9d1dcbc13.svs</td>\n",
       "      <td>287</td>\n",
       "      <td>92</td>\n",
       "    </tr>\n",
       "    <tr>\n",
       "      <th>19</th>\n",
       "      <td>21</td>\n",
       "      <td>022857018aa597374b6c.svs</td>\n",
       "      <td>2463</td>\n",
       "      <td>1290</td>\n",
       "    </tr>\n",
       "    <tr>\n",
       "      <th>20</th>\n",
       "      <td>22</td>\n",
       "      <td>13528f1921d4f1f15511.svs</td>\n",
       "      <td>963</td>\n",
       "      <td>283</td>\n",
       "    </tr>\n",
       "  </tbody>\n",
       "</table>\n",
       "</div>"
      ],
      "text/plain": [
       "    slide                  filename  Mitotic cell look-alike  Mitotic figure\n",
       "0       1  a8773be388e12df89edd.svs                      204              64\n",
       "1       2  460906c0b1fe17ea5354.svs                     1199             673\n",
       "2       3  2d56d1902ca533a5b509.svs                      228             139\n",
       "3       5  d0423ef9a648bb66a763.svs                     1143             378\n",
       "4       6  50cf88e9a33df0c0c8f9.svs                     1632            1197\n",
       "5       7  da18e7b9846e9d38034c.svs                      991             187\n",
       "6       8  d7a8af121d7d4f3fbf01.svs                     1832             716\n",
       "7       9  2191a7aa287ce1d5dbc0.svs                     2155            1449\n",
       "8      10  69a02453620ade0edefd.svs                     1407             634\n",
       "9      11  c4b95da36e32993289cb.svs                     2454            1097\n",
       "10     12  fa4959e484beec77543b.svs                     3598            1949\n",
       "11     13  72c93e042d0171a61012.svs                      375             130\n",
       "12     14  4eee7b944ad5e46c60ce.svs                      114              47\n",
       "13     15  b1bdee8e5e3372174619.svs                     1260             812\n",
       "14     16  3d3d04eca056556b0b26.svs                     2110            1383\n",
       "15     17  084383c18b9060880e82.svs                      404             157\n",
       "16     18  e09512d530d933e436d5.svs                      602              87\n",
       "17     19  d37ab62158945f22deed.svs                     1105             578\n",
       "18     20  deb768e5efb9d1dcbc13.svs                      287              92\n",
       "19     21  022857018aa597374b6c.svs                     2463            1290\n",
       "20     22  13528f1921d4f1f15511.svs                      963             283"
      ]
     },
     "execution_count": 19,
     "metadata": {},
     "output_type": "execute_result"
    }
   ],
   "source": [
    "MEL_Anno= pd.read_sql_query('SELECT * FROM Annotations', con=CON_MEL)    # Includes slide # (uid), agreedClass (annotation, i.e. mitotic/nonmitotic)\n",
    "\n",
    "MEL_Slides= pd.read_sql_query('SELECT * FROM Slides', con=CON_MEL)       # Includes slide #, Whole Slide Image file name\n",
    "MEL_Slides_new = MEL_Slides.rename(columns={'uid':'slide'})              # Change the uid (slide#) with WSI file name              \n",
    "\n",
    "MEL_merge = pd.merge(MEL_Anno,MEL_Slides_new, on='slide')                # Merge MEL_Slides with MEL_Anno - this is to see which slide # is associated with WSI file name\n",
    "class1 = pd.DataFrame(MEL_merge[['slide','filename']][MEL_merge['agreedClass']==1].value_counts().sort_index())     # Pull together sum of agreedClass == 1 (nonmitotic) for each slide\n",
    "class1 = class1.reset_index().rename(columns={0:'Mitotic cell look-alike'})                                         # Rename count column with agreedClass name\n",
    "class2 = pd.DataFrame(MEL_merge[['slide','filename']][MEL_merge['agreedClass']==2].value_counts().sort_index())     # Pull together sum of agreedClass == 2 (mitotic) for each slide\n",
    "class2 = class2.reset_index().rename(columns={0:'Mitotic figure'})                                                  # Rename count column with agreedClass name\n",
    "\n",
    "MEL_class_total = pd.merge(class1, class2)\n",
    "MEL_class_total                                                         # list of Whole Slide Images's slide # and file name along with the number of nonmitotic and mitotic counts"
   ]
  },
  {
   "cell_type": "code",
   "execution_count": 29,
   "metadata": {},
   "outputs": [
    {
     "name": "stdout",
     "output_type": "stream",
     "text": [
      "Total count of mitotic figures is 13342\n",
      "Total count of nonmitotic figures is 26526\n",
      "Sum of all annotations is 39868\n"
     ]
    }
   ],
   "source": [
    "print('Total count of mitotic figures is ' + str(MEL_class_total['Mitotic figure'].sum()))\n",
    "print('Total count of nonmitotic figures is ' + str(MEL_class_total['Mitotic cell look-alike'].sum()))\n",
    "print('Sum of all annotations is ' + str(MEL_class_total['Mitotic figure'].sum() + MEL_class_total['Mitotic cell look-alike'].sum()))"
   ]
  },
  {
   "cell_type": "code",
   "execution_count": 30,
   "metadata": {},
   "outputs": [],
   "source": [
    "info_data = []    # This is to collect tile image ID, its associated WSI file name, mitotic figure radius, whether the tile is in test or train folder\n",
    "from os import system\n",
    "DB.open('../databases/'+Databases[2])    # Make sure to select the appropriate database, check above list to see the names\n",
    "\n",
    "for slideid,filename in listOfSlides(DB):\n",
    "    DB.loadIntoMemory(slideid)\n",
    "    \n",
    "    \n",
    "    slide=openslide.open_slide(basepath+filename)\n",
    "\n",
    "    for k in DB.annotations.keys():\n",
    "\n",
    "        anno = DB.annotations[k]\n",
    "\n",
    "        if anno.deleted or anno.annotationType != AnnotationType.SPOT:\n",
    "            continue\n",
    "        coord_x = anno.x1     # x coordinate of the annotation\n",
    "        coord_y = anno.y1     # y coordinate of the annotation\n",
    "        radius = anno.r       # radius of the annotation \n",
    "\n",
    "        lu_x = int(coord_x - int(patchSize/2))     # this indicates the left upper x coordinate\n",
    "        lu_y = int(coord_y - int(patchSize/2))     # this indicates the left upper y coordinate\n",
    "        img = np.array(slide.read_region(location=(lu_x, lu_y), level=0, size=(patchSize, patchSize)))\n",
    "        img = cv2.cvtColor(img, cv2.COLOR_RGBA2BGR)\n",
    "\n",
    "\n",
    "\n",
    "        #istest = 'train/' if str(slideid) not in test_slides[sys.argv[1]] else 'test/'\n",
    "        istest = 'train/' if str(slideid) not in test_slides else 'test/'\n",
    "\n",
    "        info_data.append([k, slideid, filename, anno.agreedClass, radius, istest])\n",
    "\n",
    "        if (anno.agreedClass ==2):\n",
    "            temp1 = (str('.') + str(Path_Data) + '/' + istest + 'Mitosis/%d.png' % k)\n",
    "            cv2.imwrite(temp1, img)\n",
    "            \n",
    "\n",
    "        if (anno.agreedClass==1):\n",
    "            temp2 = (str('.') + str(Path_Data) + '/' + istest + 'Nonmitosis/%d.png' % k)\n",
    "            cv2.imwrite(temp2, img)"
   ]
  },
  {
   "cell_type": "code",
   "execution_count": 31,
   "metadata": {},
   "outputs": [
    {
     "data": {
      "text/plain": [
       "21"
      ]
     },
     "execution_count": 31,
     "metadata": {},
     "output_type": "execute_result"
    }
   ],
   "source": [
    "len(pd.DataFrame(info_data)[2].unique())"
   ]
  },
  {
   "cell_type": "code",
   "execution_count": 36,
   "metadata": {},
   "outputs": [],
   "source": [
    "info_data_pd = pd.DataFrame(info_data).rename(columns={0:'Tile_num', 1:'SlideID', 2:'Slide_file_name', 3:'agreedClass', 4:'anno_radius', 5:'test_train_folder' }) "
   ]
  },
  {
   "cell_type": "code",
   "execution_count": 45,
   "metadata": {},
   "outputs": [],
   "source": [
    "# info_data_pd['SlideID'].value_counts().sort_index()"
   ]
  },
  {
   "cell_type": "code",
   "execution_count": 44,
   "metadata": {},
   "outputs": [],
   "source": [
    "#MEL_class_total['SUM'] = MEL_class_total['Mitotic cell look-alike'] + MEL_class_total['Mitotic figure']\n",
    "#MEL_class_total"
   ]
  },
  {
   "cell_type": "code",
   "execution_count": 46,
   "metadata": {},
   "outputs": [
    {
     "data": {
      "text/plain": [
       "{'1': ['18', '3', '22', '10', '15', '21', '14'],\n",
       " '2': ['1', '20', '17', '5', '2', '11', '16'],\n",
       " '3': ['12', '13', '7', '19', '8', '6', '9']}"
      ]
     },
     "execution_count": 46,
     "metadata": {},
     "output_type": "execute_result"
    }
   ],
   "source": [
    "test_slides"
   ]
  },
  {
   "cell_type": "code",
   "execution_count": 55,
   "metadata": {},
   "outputs": [
    {
     "data": {
      "text/plain": [
       "SlideID  Slide_file_name           test_train_folder\n",
       "1        a8773be388e12df89edd.svs  test/                 268\n",
       "2        460906c0b1fe17ea5354.svs  test/                1872\n",
       "3        2d56d1902ca533a5b509.svs  test/                 367\n",
       "5        d0423ef9a648bb66a763.svs  train/               1521\n",
       "6        50cf88e9a33df0c0c8f9.svs  train/               2829\n",
       "7        da18e7b9846e9d38034c.svs  train/               1178\n",
       "8        d7a8af121d7d4f3fbf01.svs  train/               2548\n",
       "9        2191a7aa287ce1d5dbc0.svs  train/               3604\n",
       "10       69a02453620ade0edefd.svs  train/               2041\n",
       "11       c4b95da36e32993289cb.svs  train/               3551\n",
       "12       fa4959e484beec77543b.svs  train/               5547\n",
       "13       72c93e042d0171a61012.svs  train/                505\n",
       "14       4eee7b944ad5e46c60ce.svs  train/                161\n",
       "15       b1bdee8e5e3372174619.svs  train/               2072\n",
       "16       3d3d04eca056556b0b26.svs  train/               3493\n",
       "17       084383c18b9060880e82.svs  train/                561\n",
       "18       e09512d530d933e436d5.svs  train/                689\n",
       "19       d37ab62158945f22deed.svs  train/               1683\n",
       "20       deb768e5efb9d1dcbc13.svs  train/                379\n",
       "21       022857018aa597374b6c.svs  train/               3752\n",
       "22       13528f1921d4f1f15511.svs  train/               1246\n",
       "dtype: int64"
      ]
     },
     "execution_count": 55,
     "metadata": {},
     "output_type": "execute_result"
    }
   ],
   "source": [
    "info_data_pd[['SlideID','Slide_file_name','test_train_folder']].value_counts().sort_index()"
   ]
  },
  {
   "cell_type": "code",
   "execution_count": 58,
   "metadata": {},
   "outputs": [
    {
     "data": {
      "text/plain": [
       "train/    37360\n",
       "test/      2507\n",
       "Name: test_train_folder, dtype: int64"
      ]
     },
     "execution_count": 58,
     "metadata": {},
     "output_type": "execute_result"
    }
   ],
   "source": [
    "info_data_pd['test_train_folder'].value_counts()"
   ]
  },
  {
   "cell_type": "code",
   "execution_count": 66,
   "metadata": {},
   "outputs": [],
   "source": [
    "train_tiles_count = len(os.listdir('./Data_MITOS_WSI_CMC_MEL/train/Mitosis/')) + len(os.listdir('./Data_MITOS_WSI_CMC_MEL/train/Nonmitosis/'))\n",
    "test_tiles_count = len(os.listdir('./Data_MITOS_WSI_CMC_MEL/test/Mitosis/')) + len(os.listdir('./Data_MITOS_WSI_CMC_MEL/test/Nonmitosis/'))"
   ]
  },
  {
   "cell_type": "code",
   "execution_count": 70,
   "metadata": {},
   "outputs": [
    {
     "name": "stdout",
     "output_type": "stream",
     "text": [
      "train_tiles_count = 37360\n",
      "test_tiles_count = 2507\n"
     ]
    }
   ],
   "source": [
    "print('train_tiles_count = ' + str(train_tiles_count))\n",
    "print('test_tiles_count = ' + str(test_tiles_count))"
   ]
  },
  {
   "cell_type": "code",
   "execution_count": null,
   "metadata": {},
   "outputs": [],
   "source": []
  }
 ],
 "metadata": {
  "kernelspec": {
   "display_name": "Python 3.9.12",
   "language": "python",
   "name": "python3"
  },
  "language_info": {
   "codemirror_mode": {
    "name": "ipython",
    "version": 3
   },
   "file_extension": ".py",
   "mimetype": "text/x-python",
   "name": "python",
   "nbconvert_exporter": "python",
   "pygments_lexer": "ipython3",
   "version": "3.9.12"
  },
  "orig_nbformat": 4,
  "vscode": {
   "interpreter": {
    "hash": "d3eeb4754ca6e7aa75e959aea56fc59a1efa39741703ff424733e86a886eecb1"
   }
  }
 },
 "nbformat": 4,
 "nbformat_minor": 2
}
