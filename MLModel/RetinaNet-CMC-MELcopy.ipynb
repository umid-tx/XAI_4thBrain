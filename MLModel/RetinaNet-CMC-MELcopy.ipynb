{
 "cells": [
  {
   "cell_type": "code",
   "execution_count": 1,
   "metadata": {},
   "outputs": [],
   "source": [
    "import sys \n",
    "sys.path.insert(0, '/Users/deliaahmed/Desktop/MLE-9/CAPSTONE/4thBrain_XAI/')\n",
    "#sys.path.insert(1, '/Users/deliaahmed/Desktop/MLE-9/CAPSTONE4thBrain_XAI/BaseModel')\n"
   ]
  },
  {
   "cell_type": "code",
   "execution_count": 3,
   "metadata": {},
   "outputs": [],
   "source": [
    "%reload_ext autoreload\n",
    "%autoreload 2\n",
    "%matplotlib inline\n",
    "import sqlite3\n",
    "import numpy as np\n",
    "from SlideRunner.dataAccess.database import Database\n",
    "from tqdm import tqdm\n",
    "from pathlib import Path\n",
    "import openslide\n",
    "import time\n",
    "from fastai import *\n",
    "from fastai.vision import *\n",
    "from fastai.callback import *\n",
    "from random import randint\n",
    "#from data_loader import *\n",
    "#from Functions.data_loader import *\n",
    "#from lib.callbacks import BBLossMetrics, BBMetrics, PascalVOCMetric\n",
    "#from lib.object_detection_helper import *\n",
    "#from BaseModel.RetinaNetFocalLoss import RetinaNetFocalLoss\n",
    "#from BaseModel.RetinaNet import RetinaNet\n",
    "#from lib.sampling import get_slides\n",
    "from Functions.sampling import get_slides\n"
   ]
  },
  {
   "cell_type": "code",
   "execution_count": 12,
   "metadata": {},
   "outputs": [],
   "source": [
    "\n",
    "size=512\n",
    "path = Path('./')\n",
    "\n",
    "database = Database()\n",
    "#database.open(str(path/'./Databases/MITOS_WSI_CMC_MEL.sqlite'))\n",
    "database.open(str('/Users/deliaahmed/Desktop/MLE-9/CAPSTONE/4thBrain_XAI/Database/MITOS_WSI_CMC_MEL.sqlite'))\n",
    "\n",
    "slidelist_test_1 = ['14','18','3','22','10','15','21']\n",
    "slidelist_test_2 = ['1','20','17','5','2','11','16']\n",
    "slidelist_test_3 = ['13','7','19','8','6','9', '12']\n",
    "slidelist_test = slidelist_test_1"
   ]
  },
  {
   "cell_type": "markdown",
   "metadata": {},
   "source": [
    "## Split dataset into train/validation and test on slide level"
   ]
  },
  {
   "cell_type": "markdown",
   "metadata": {},
   "source": [
    "Convert database into in-memory object"
   ]
  },
  {
   "cell_type": "code",
   "execution_count": 14,
   "metadata": {},
   "outputs": [
    {
     "name": "stderr",
     "output_type": "stream",
     "text": [
      "[autoreload of Functions.sampling failed: Traceback (most recent call last):\n",
      "  File \"/Users/deliaahmed/anaconda3/envs/py39_12/lib/python3.9/site-packages/IPython/extensions/autoreload.py\", line 257, in check\n",
      "    superreload(m, reload, self.old_objects)\n",
      "  File \"/Users/deliaahmed/anaconda3/envs/py39_12/lib/python3.9/site-packages/IPython/extensions/autoreload.py\", line 455, in superreload\n",
      "    module = reload(module)\n",
      "  File \"/Users/deliaahmed/anaconda3/envs/py39_12/lib/python3.9/importlib/__init__.py\", line 169, in reload\n",
      "    _bootstrap._exec(spec, module)\n",
      "  File \"<frozen importlib._bootstrap>\", line 613, in _exec\n",
      "  File \"<frozen importlib._bootstrap_external>\", line 850, in exec_module\n",
      "  File \"<frozen importlib._bootstrap>\", line 228, in _call_with_frames_removed\n",
      "  File \"/Users/deliaahmed/Desktop/MLE-9/CAPSTONE/4thBrain_XAI/Functions/sampling.py\", line 9, in <module>\n",
      "    class SlideContainer():\n",
      "  File \"/Users/deliaahmed/Desktop/MLE-9/CAPSTONE/4thBrain_XAI/Functions/sampling.py\", line 11, in SlideContainer\n",
      "    def __init__(self, file: Path, annotations:dict, y, level: int=0, width: int=256, height: int=256, sample_func: callable=None):\n",
      "NameError: name 'Path' is not defined\n",
      "]\n",
      "[autoreload of Functions.sampling failed: Traceback (most recent call last):\n",
      "  File \"/Users/deliaahmed/anaconda3/envs/py39_12/lib/python3.9/site-packages/IPython/extensions/autoreload.py\", line 257, in check\n",
      "    superreload(m, reload, self.old_objects)\n",
      "  File \"/Users/deliaahmed/anaconda3/envs/py39_12/lib/python3.9/site-packages/IPython/extensions/autoreload.py\", line 455, in superreload\n",
      "    module = reload(module)\n",
      "  File \"/Users/deliaahmed/anaconda3/envs/py39_12/lib/python3.9/importlib/__init__.py\", line 169, in reload\n",
      "    _bootstrap._exec(spec, module)\n",
      "  File \"<frozen importlib._bootstrap>\", line 613, in _exec\n",
      "  File \"<frozen importlib._bootstrap_external>\", line 850, in exec_module\n",
      "  File \"<frozen importlib._bootstrap>\", line 228, in _call_with_frames_removed\n",
      "  File \"/Users/deliaahmed/Desktop/MLE-9/CAPSTONE/4thBrain_XAI/Functions/sampling.py\", line 9, in <module>\n",
      "    class SlideContainer():\n",
      "  File \"/Users/deliaahmed/Desktop/MLE-9/CAPSTONE/4thBrain_XAI/Functions/sampling.py\", line 11, in SlideContainer\n",
      "    def __init__(self, file: Path, annotations:dict, y, level: int=0, width: int=256, height: int=256, sample_func: callable=None):\n",
      "NameError: name 'Path' is not defined\n",
      "]\n",
      "Loading slides .. :   0%|          | 0/21 [00:00<?, ?it/s]\n"
     ]
    },
    {
     "ename": "NameError",
     "evalue": "name 'SlideContainer' is not defined",
     "output_type": "error",
     "traceback": [
      "\u001b[0;31m---------------------------------------------------------------------------\u001b[0m",
      "\u001b[0;31mNameError\u001b[0m                                 Traceback (most recent call last)",
      "\u001b[1;32m/Users/deliaahmed/Desktop/MLE-9/CAPSTONE/4thBrain_XAI/MLModel/RetinaNet-CMC-MELcopy.ipynb Cell 6\u001b[0m in \u001b[0;36m<cell line: 1>\u001b[0;34m()\u001b[0m\n\u001b[0;32m----> <a href='vscode-notebook-cell:/Users/deliaahmed/Desktop/MLE-9/CAPSTONE/4thBrain_XAI/MLModel/RetinaNet-CMC-MELcopy.ipynb#W4sZmlsZQ%3D%3D?line=0'>1</a>\u001b[0m lbl_bbox, train_slides,val_slides,files \u001b[39m=\u001b[39m get_slides(slidelist_test\u001b[39m=\u001b[39;49mslidelist_test, negative_class\u001b[39m=\u001b[39;49m\u001b[39m1\u001b[39;49m,  size\u001b[39m=\u001b[39;49msize,database\u001b[39m=\u001b[39;49mdatabase,basepath\u001b[39m=\u001b[39;49m\u001b[39m'\u001b[39;49m\u001b[39m/Volumes/DA_HDD/CAPSTONE/WSI/\u001b[39;49m\u001b[39m'\u001b[39;49m)\n",
      "File \u001b[0;32m~/Desktop/MLE-9/CAPSTONE/4thBrain_XAI/Functions/sampling.py:154\u001b[0m, in \u001b[0;36mget_slides\u001b[0;34m(slidelist_test, database, positive_class, negative_class, basepath, size)\u001b[0m\n\u001b[1;32m    152\u001b[0m \u001b[39mif\u001b[39;00m \u001b[39mlen\u001b[39m(bboxes) \u001b[39m>\u001b[39m \u001b[39m0\u001b[39m:\n\u001b[1;32m    153\u001b[0m     lbl_bbox\u001b[39m.\u001b[39mappend([bboxes, labels])\n\u001b[0;32m--> 154\u001b[0m     files\u001b[39m.\u001b[39mappend(SlideContainer(file\u001b[39m=\u001b[39mslide_path, annotations\u001b[39m=\u001b[39mannotations, level\u001b[39m=\u001b[39mlevel, width\u001b[39m=\u001b[39msize, height\u001b[39m=\u001b[39msize, y\u001b[39m=\u001b[39m[bboxes, labels], sample_func\u001b[39m=\u001b[39mpartial(sampling_func, \u001b[39mset\u001b[39m\u001b[39m=\u001b[39m\u001b[39m'\u001b[39m\u001b[39mtraining\u001b[39m\u001b[39m'\u001b[39m, negative_class\u001b[39m=\u001b[39mnegative_class)))\n\u001b[1;32m    155\u001b[0m     train_slides\u001b[39m.\u001b[39mappend(\u001b[39mlen\u001b[39m(files)\u001b[39m-\u001b[39m\u001b[39m1\u001b[39m)\n\u001b[1;32m    157\u001b[0m     lbl_bbox\u001b[39m.\u001b[39mappend([bboxes, labels])\n",
      "\u001b[0;31mNameError\u001b[0m: name 'SlideContainer' is not defined"
     ]
    }
   ],
   "source": [
    "lbl_bbox, train_slides,val_slides,files = get_slides(slidelist_test=slidelist_test, negative_class=1,  size=size,database=database,basepath='/Volumes/DA_HDD/CAPSTONE/WSI/')"
   ]
  },
  {
   "cell_type": "code",
   "execution_count": null,
   "metadata": {},
   "outputs": [],
   "source": [
    "img2bbox = dict(zip(files, np.array(lbl_bbox)))\n",
    "get_y_func = lambda o:img2bbox[o]"
   ]
  },
  {
   "cell_type": "code",
   "execution_count": null,
   "metadata": {},
   "outputs": [],
   "source": [
    "bs = 12\n",
    "train_images = 5000\n",
    "val_images = 5000\n",
    "\n",
    "train_files = list(np.random.choice([files[x] for x in train_slides], train_images))\n",
    "valid_files = list(np.random.choice([files[x] for x in val_slides], val_images))\n",
    "\n",
    "#train_files = list(np.random.choice(files, train_images))\n",
    "#valid_files = list(np.random.choice(files, val_images))\n"
   ]
  },
  {
   "cell_type": "code",
   "execution_count": null,
   "metadata": {},
   "outputs": [],
   "source": [
    "tfms = get_transforms(do_flip=True,\n",
    "                      flip_vert=True,\n",
    "                      max_rotate=90,\n",
    "                      max_lighting=0.0,\n",
    "                      max_zoom=1.,\n",
    "                      max_warp=0.0,\n",
    "                      p_affine=0.5,\n",
    "                      p_lighting=0.0,\n",
    "                      #xtra_tfms=xtra_tfms,\n",
    "                     )\n"
   ]
  },
  {
   "cell_type": "code",
   "execution_count": null,
   "metadata": {},
   "outputs": [],
   "source": [
    "train =  ObjectItemListSlide(train_files, path=path)\n",
    "valid = ObjectItemListSlide(valid_files, path=path)\n",
    "valid = ObjectItemListSlide(valid_files, path=path)\n",
    "item_list = ItemLists(path, train, valid)\n",
    "lls = item_list.label_from_func(get_y_func, label_cls=SlideObjectCategoryList) #\n",
    "lls = lls.transform(tfms, tfm_y=True, size=size)\n",
    "data = lls.databunch(bs=bs, collate_fn=bb_pad_collate_min).normalize()"
   ]
  },
  {
   "cell_type": "code",
   "execution_count": null,
   "metadata": {},
   "outputs": [],
   "source": [
    "data.show_batch(rows=2, ds_type=DatasetType.Train, figsize=(15,15))"
   ]
  },
  {
   "cell_type": "code",
   "execution_count": null,
   "metadata": {},
   "outputs": [],
   "source": [
    "anchors = create_anchors(sizes=[(32,32)], ratios=[1], scales=[0.6, 0.7,0.8])\n"
   ]
  },
  {
   "cell_type": "code",
   "execution_count": null,
   "metadata": {
    "scrolled": false
   },
   "outputs": [],
   "source": [
    "not_found = show_anchors_on_images(data, anchors)"
   ]
  },
  {
   "cell_type": "code",
   "execution_count": null,
   "metadata": {},
   "outputs": [],
   "source": []
  },
  {
   "cell_type": "code",
   "execution_count": null,
   "metadata": {},
   "outputs": [],
   "source": [
    "crit = RetinaNetFocalLoss(anchors)"
   ]
  },
  {
   "cell_type": "code",
   "execution_count": null,
   "metadata": {},
   "outputs": [],
   "source": [
    "encoder = create_body(models.resnet18, True, -2)\n",
    "model = RetinaNet(encoder, n_classes=data.train_ds.c, n_anchors=3, sizes=[32], chs=128, final_bias=-4., n_conv=3)\n",
    "\n"
   ]
  },
  {
   "cell_type": "code",
   "execution_count": null,
   "metadata": {},
   "outputs": [],
   "source": [
    "voc = PascalVOCMetric(anchors, size, [str(i-1) for i in data.train_ds.y.classes[1:]])\n",
    "learn = Learner(data, model, loss_func=crit, callback_fns=[BBMetrics, ShowGraph], #BBMetrics, ShowGraph\n",
    "                metrics=[voc]\n",
    "               )"
   ]
  },
  {
   "cell_type": "code",
   "execution_count": null,
   "metadata": {
    "scrolled": false
   },
   "outputs": [],
   "source": [
    "learn.split([model.encoder[6], model.c5top5])\n",
    "learn.freeze_to(-2)\n"
   ]
  },
  {
   "cell_type": "markdown",
   "metadata": {},
   "source": [
    "Run learning rate finder"
   ]
  },
  {
   "cell_type": "code",
   "execution_count": null,
   "metadata": {},
   "outputs": [],
   "source": [
    "learn.lr_find()\n",
    "learn.recorder.plot()"
   ]
  },
  {
   "cell_type": "code",
   "execution_count": null,
   "metadata": {},
   "outputs": [],
   "source": [
    "learn.fit_one_cycle(1, 1e-4)"
   ]
  },
  {
   "cell_type": "code",
   "execution_count": null,
   "metadata": {},
   "outputs": [],
   "source": [
    "lr=1e-4\n",
    "learn.fit_one_cycle(10, lr)#, callbacks=[SaveModelCallback(learn, every='improvement', monitor='AP-0', name='model')])"
   ]
  },
  {
   "cell_type": "code",
   "execution_count": null,
   "metadata": {},
   "outputs": [],
   "source": [
    "learn.unfreeze()\n",
    "lr=1e-4\n",
    "\n",
    "learn.fit_one_cycle(10, lr)"
   ]
  },
  {
   "cell_type": "code",
   "execution_count": null,
   "metadata": {
    "scrolled": true
   },
   "outputs": [],
   "source": [
    "learn.unfreeze()\n",
    "lr=1e-4\n",
    "\n",
    "learn.fit(30, lr, callbacks=[SaveModelCallback(learn, every='improvement', name='model')])"
   ]
  },
  {
   "cell_type": "code",
   "execution_count": null,
   "metadata": {},
   "outputs": [],
   "source": []
  },
  {
   "cell_type": "code",
   "execution_count": null,
   "metadata": {},
   "outputs": [],
   "source": []
  },
  {
   "cell_type": "code",
   "execution_count": null,
   "metadata": {},
   "outputs": [],
   "source": []
  },
  {
   "cell_type": "code",
   "execution_count": null,
   "metadata": {},
   "outputs": [],
   "source": []
  },
  {
   "cell_type": "code",
   "execution_count": null,
   "metadata": {
    "scrolled": false
   },
   "outputs": [],
   "source": [
    "slide_object_result(learn, anchors, detect_thresh=0.3, nms_thresh=0.2, image_count=10)"
   ]
  },
  {
   "cell_type": "code",
   "execution_count": null,
   "metadata": {},
   "outputs": [],
   "source": [
    "learn.save('RetinaNet-CMC-MEL-512sh-batch1', with_opt=True)\n",
    "learn.export(\"RetinaNet-CMC-MEL-512sh-b1.pth\")"
   ]
  },
  {
   "cell_type": "code",
   "execution_count": null,
   "metadata": {},
   "outputs": [],
   "source": [
    "torch.save(learn.model.state_dict(), \"RetinaNet-CMC-MEL-512sh-batch1_statedict.pth\")"
   ]
  },
  {
   "cell_type": "code",
   "execution_count": null,
   "metadata": {},
   "outputs": [],
   "source": [
    "learn.data.stats"
   ]
  },
  {
   "cell_type": "code",
   "execution_count": null,
   "metadata": {},
   "outputs": [],
   "source": []
  }
 ],
 "metadata": {
  "kernelspec": {
   "display_name": "Python 3.9.12",
   "language": "python",
   "name": "python3"
  },
  "language_info": {
   "codemirror_mode": {
    "name": "ipython",
    "version": 3
   },
   "file_extension": ".py",
   "mimetype": "text/x-python",
   "name": "python",
   "nbconvert_exporter": "python",
   "pygments_lexer": "ipython3",
   "version": "3.9.12"
  },
  "vscode": {
   "interpreter": {
    "hash": "d3eeb4754ca6e7aa75e959aea56fc59a1efa39741703ff424733e86a886eecb1"
   }
  }
 },
 "nbformat": 4,
 "nbformat_minor": 2
}
